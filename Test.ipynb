{
 "cells": [
  {
   "cell_type": "markdown",
   "metadata": {},
   "source": [
    " I'd need a proper data set to do a fair comparison\n",
    " but i couldnt find a simple data set which was good for\n",
    " naive bayes within a few google searches.."
   ]
  },
  {
   "cell_type": "code",
   "execution_count": 1,
   "metadata": {},
   "outputs": [],
   "source": [
    "from numpy.random import randn\n",
    "from numpy import array, concatenate, zeros, ones\n",
    "from sklearn.model_selection import train_test_split\n",
    "\n",
    "data = []\n",
    "labels = []\n",
    "with open(\"wineX.txt\") as data_file:\n",
    "    for line in data_file.read().split(\"\\n\"):\n",
    "        l = []\n",
    "        for item in line.split(\",\"):\n",
    "            if item != \"\":\n",
    "                l.append(float(item))\n",
    "            \n",
    "        if len(l) > 5:\n",
    "            data.append(l)\n",
    "        \n",
    "\n",
    "with open(\"wineY.txt\") as label_file:\n",
    "    tmp = label_file.readlines()\n",
    "    \n",
    "    for label in tmp:\n",
    "        labels.append(int(label[0]))\n",
    "    \n",
    "    \n",
    "traind, testd, trainl, testl = train_test_split(data, labels, test_size=0.25)\n",
    "\n",
    "\n"
   ]
  },
  {
   "cell_type": "code",
   "execution_count": 2,
   "metadata": {},
   "outputs": [
    {
     "name": "stdout",
     "output_type": "stream",
     "text": [
      "Time to train: 0.0007300376892089844\n",
      "Correct rate: 0.9555555555555556\n",
      "Avarage predict rate: 8.808771769205729e-05\n"
     ]
    }
   ],
   "source": [
    "from naive_bayes import classifier\n",
    "from time import time\n",
    "from numpy import arange, array\n",
    "\n",
    "traind = array(traind)\n",
    "trainl = array(trainl)\n",
    "\n",
    "testd = array(testd)\n",
    "testl = array(testl)\n",
    "\n",
    "c = classifier()\n",
    "\n",
    "timestamp = time()\n",
    "c.train(traind, trainl)\n",
    "print(\"Time to train: {}\".format(time() - timestamp))\n",
    "\n",
    "timestamp = time()\n",
    "correct = 0\n",
    "for index, t in enumerate(testd):\n",
    "    correct += (c.predict(t) == testl[index])\n",
    "\n",
    "print(\"Correct rate: {}\".format(correct / len(testd)))\n",
    "print(\"Avarage predict rate: {}\".format((time() - timestamp) / len(testd)))"
   ]
  },
  {
   "cell_type": "code",
   "execution_count": null,
   "metadata": {},
   "outputs": [],
   "source": []
  }
 ],
 "metadata": {
  "kernelspec": {
   "display_name": "Python 3",
   "language": "python",
   "name": "python3"
  },
  "language_info": {
   "codemirror_mode": {
    "name": "ipython",
    "version": 3
   },
   "file_extension": ".py",
   "mimetype": "text/x-python",
   "name": "python",
   "nbconvert_exporter": "python",
   "pygments_lexer": "ipython3",
   "version": "3.6.4"
  }
 },
 "nbformat": 4,
 "nbformat_minor": 2
}
