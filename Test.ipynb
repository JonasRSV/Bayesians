{
 "cells": [
  {
   "cell_type": "markdown",
   "metadata": {},
   "source": [
    " I'd need a proper data set to do a fair comparison\n",
    " but i couldnt find a simple data set which was good for\n",
    " naive bayes within a few google searches.."
   ]
  },
  {
   "cell_type": "code",
   "execution_count": 1,
   "metadata": {},
   "outputs": [],
   "source": [
    "from numpy.random import randn\n",
    "from numpy import array, concatenate, zeros, ones\n",
    "\n",
    "cluster0 = zeros((10000, 10))\n",
    "for index in range(10000):\n",
    "    cluster0[index] = randn(10) + 20\n",
    "\n",
    "cluster1 = zeros((10000, 10))\n",
    "for index in range(10000):\n",
    "    cluster1[index] = randn(10) - 20\n",
    "    \n",
    "\n",
    "train0 = cluster0[:8000]\n",
    "train1 = cluster1[:8000]\n",
    "\n",
    "test0 = cluster0[8000:]\n",
    "test1 = cluster1[8000:]\n",
    "\n",
    "train = concatenate([train0, train1])\n",
    "test = concatenate([test0, test1])\n",
    "\n",
    "train_labels = concatenate([zeros(8000), ones(8000)])\n",
    "test_labels = concatenate([zeros(2000), ones(2000)])\n",
    "\n",
    "TEST_DATA = 4000"
   ]
  },
  {
   "cell_type": "code",
   "execution_count": 2,
   "metadata": {},
   "outputs": [
    {
     "name": "stdout",
     "output_type": "stream",
     "text": [
      "Time to train: 0.02433609962463379\n",
      "Naive Stats\n",
      "Correct rate: 1.0\n",
      "Avarage predict rate: 5.451875925064087e-05\n"
     ]
    }
   ],
   "source": [
    "from naive_bayes import classifier\n",
    "from time import time\n",
    "from numpy import arange\n",
    "\n",
    "c = classifier()\n",
    "\n",
    "timestamp = time()\n",
    "c.train(train, train_labels)\n",
    "print(\"Time to train: {}\".format(time() - timestamp))\n",
    "\n",
    "timestamp = time()\n",
    "correct = 0\n",
    "for index, t in enumerate(test):\n",
    "    correct += (c.predict(t) == test_labels[index])\n",
    "\n",
    "print(\"Naive Stats\")\n",
    "print(\"Correct rate: {}\".format(correct / TEST_DATA))\n",
    "print(\"Avarage predict rate: {}\".format((time() - timestamp) / TEST_DATA))"
   ]
  },
  {
   "cell_type": "code",
   "execution_count": null,
   "metadata": {},
   "outputs": [],
   "source": []
  }
 ],
 "metadata": {
  "kernelspec": {
   "display_name": "Python 3",
   "language": "python",
   "name": "python3"
  },
  "language_info": {
   "codemirror_mode": {
    "name": "ipython",
    "version": 3
   },
   "file_extension": ".py",
   "mimetype": "text/x-python",
   "name": "python",
   "nbconvert_exporter": "python",
   "pygments_lexer": "ipython3",
   "version": "3.6.4"
  }
 },
 "nbformat": 4,
 "nbformat_minor": 2
}
