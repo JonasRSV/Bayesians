{
 "cells": [
  {
   "cell_type": "markdown",
   "metadata": {},
   "source": [
    " I'd need a proper data set to do a fair comparison\n",
    " but i couldnt find a simple data set which was good for\n",
    " naive bayes within a few google searches.."
   ]
  },
  {
   "cell_type": "code",
   "execution_count": 1,
   "metadata": {},
   "outputs": [],
   "source": [
    "from numpy.random import randn\n",
    "from numpy import array, concatenate, zeros, ones\n",
    "\n",
    "cluster0 = zeros((10000, 10))\n",
    "for index in range(10000):\n",
    "    cluster0[index] = randn(10) + 20\n",
    "\n",
    "cluster1 = zeros((10000, 10))\n",
    "for index in range(10000):\n",
    "    cluster1[index] = randn(10) - 20\n",
    "    \n",
    "\n",
    "train0 = cluster0[:8000]\n",
    "train1 = cluster1[:8000]\n",
    "\n",
    "test0 = cluster0[8000:]\n",
    "test1 = cluster1[8000:]\n",
    "\n",
    "train = concatenate([train0, train1])\n",
    "test = concatenate([test0, test1])\n",
    "\n",
    "train_labels = concatenate([zeros(8000), ones(8000)])\n",
    "test_labels = concatenate([zeros(2000), ones(2000)])\n",
    "\n",
    "TEST_DATA = 4000"
   ]
  },
  {
   "cell_type": "code",
   "execution_count": 2,
   "metadata": {},
   "outputs": [
    {
     "ename": "AttributeError",
     "evalue": "'classifier' object has no attribute 'ml'",
     "output_type": "error",
     "traceback": [
      "\u001b[0;31m---------------------------------------------------------------------------\u001b[0m",
      "\u001b[0;31mAttributeError\u001b[0m                            Traceback (most recent call last)",
      "\u001b[0;32m<ipython-input-2-cc74ac7f29e6>\u001b[0m in \u001b[0;36m<module>\u001b[0;34m()\u001b[0m\n\u001b[1;32m      6\u001b[0m \u001b[0;34m\u001b[0m\u001b[0m\n\u001b[1;32m      7\u001b[0m \u001b[0mtimestamp\u001b[0m \u001b[0;34m=\u001b[0m \u001b[0mtime\u001b[0m\u001b[0;34m(\u001b[0m\u001b[0;34m)\u001b[0m\u001b[0;34m\u001b[0m\u001b[0m\n\u001b[0;32m----> 8\u001b[0;31m \u001b[0mc\u001b[0m\u001b[0;34m.\u001b[0m\u001b[0mtrain\u001b[0m\u001b[0;34m(\u001b[0m\u001b[0mtrain\u001b[0m\u001b[0;34m,\u001b[0m \u001b[0mtrain_labels\u001b[0m\u001b[0;34m)\u001b[0m\u001b[0;34m\u001b[0m\u001b[0m\n\u001b[0m\u001b[1;32m      9\u001b[0m \u001b[0mprint\u001b[0m\u001b[0;34m(\u001b[0m\u001b[0;34m\"Time to train: {}\"\u001b[0m\u001b[0;34m.\u001b[0m\u001b[0mformat\u001b[0m\u001b[0;34m(\u001b[0m\u001b[0mtime\u001b[0m\u001b[0;34m(\u001b[0m\u001b[0;34m)\u001b[0m \u001b[0;34m-\u001b[0m \u001b[0mtimestamp\u001b[0m\u001b[0;34m)\u001b[0m\u001b[0;34m)\u001b[0m\u001b[0;34m\u001b[0m\u001b[0m\n\u001b[1;32m     10\u001b[0m \u001b[0;34m\u001b[0m\u001b[0m\n",
      "\u001b[0;32m~/WARNING/singularity/Bayesians/naive_bayes.py\u001b[0m in \u001b[0;36mtrain\u001b[0;34m(self, data, labels, bw)\u001b[0m\n\u001b[1;32m    166\u001b[0m         \u001b[0mmem\u001b[0m\u001b[0;34m.\u001b[0m\u001b[0mcl\u001b[0m \u001b[0;34m=\u001b[0m \u001b[0mset\u001b[0m\u001b[0;34m(\u001b[0m\u001b[0mlabels\u001b[0m\u001b[0;34m)\u001b[0m\u001b[0;34m\u001b[0m\u001b[0m\n\u001b[1;32m    167\u001b[0m         \u001b[0mmem\u001b[0m\u001b[0;34m.\u001b[0m\u001b[0mp\u001b[0m \u001b[0;34m=\u001b[0m \u001b[0mself\u001b[0m\u001b[0;34m.\u001b[0m\u001b[0m__calculate_priori\u001b[0m\u001b[0;34m(\u001b[0m\u001b[0mlabels\u001b[0m\u001b[0;34m,\u001b[0m \u001b[0mbw\u001b[0m\u001b[0;34m)\u001b[0m\u001b[0;34m\u001b[0m\u001b[0m\n\u001b[0;32m--> 168\u001b[0;31m         \u001b[0mmem\u001b[0m\u001b[0;34m.\u001b[0m\u001b[0mcov\u001b[0m\u001b[0;34m,\u001b[0m \u001b[0mmem\u001b[0m\u001b[0;34m.\u001b[0m\u001b[0mev\u001b[0m \u001b[0;34m=\u001b[0m \u001b[0mself\u001b[0m\u001b[0;34m.\u001b[0m\u001b[0mml\u001b[0m\u001b[0;34m(\u001b[0m\u001b[0mdata\u001b[0m\u001b[0;34m,\u001b[0m \u001b[0mlabels\u001b[0m\u001b[0;34m,\u001b[0m \u001b[0mbw\u001b[0m\u001b[0;34m)\u001b[0m\u001b[0;34m\u001b[0m\u001b[0m\n\u001b[0m\u001b[1;32m    169\u001b[0m \u001b[0;34m\u001b[0m\u001b[0m\n\u001b[1;32m    170\u001b[0m         \u001b[0;32mreturn\u001b[0m \u001b[0mself\u001b[0m\u001b[0;34m\u001b[0m\u001b[0m\n",
      "\u001b[0;31mAttributeError\u001b[0m: 'classifier' object has no attribute 'ml'"
     ]
    }
   ],
   "source": [
    "from naive_bayes import classifier\n",
    "from time import time\n",
    "from numpy import arange\n",
    "\n",
    "c = classifier()\n",
    "\n",
    "timestamp = time()\n",
    "c.train(train, train_labels)\n",
    "print(\"Time to train: {}\".format(time() - timestamp))\n",
    "\n",
    "timestamp = time()\n",
    "correct = 0\n",
    "for index, t in enumerate(test):\n",
    "    correct += (c.predict(t) == test_labels[index])\n",
    "\n",
    "print(\"Naive Stats\")\n",
    "print(\"Correct rate: {}\".format(correct / TEST_DATA))\n",
    "print(\"Avarage predict rate: {}\".format((time() - timestamp) / TEST_DATA))"
   ]
  },
  {
   "cell_type": "code",
   "execution_count": null,
   "metadata": {},
   "outputs": [],
   "source": []
  }
 ],
 "metadata": {
  "kernelspec": {
   "display_name": "Python 3",
   "language": "python",
   "name": "python3"
  },
  "language_info": {
   "codemirror_mode": {
    "name": "ipython",
    "version": 3
   },
   "file_extension": ".py",
   "mimetype": "text/x-python",
   "name": "python",
   "nbconvert_exporter": "python",
   "pygments_lexer": "ipython3",
   "version": "3.6.4"
  }
 },
 "nbformat": 4,
 "nbformat_minor": 2
}
